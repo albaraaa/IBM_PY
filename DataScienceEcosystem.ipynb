# %% [markdown]
# # Data Science Tools and Ecosystem

# %% [markdown]
# In this notebook, Data Science Tools and Ecosystem are summarized.

# %% [markdown]
# **Objectives:**
# - List popular languages for Data Science
# - Table of Data Science tools
# - Evaluating arithmetic expressions in Python
# - Converting minutes to hours

# %% [markdown]
# Some of the popular languages that Data Scientists use are:
# 1. R
# 2. Python
# 3. Java
# 4. C++

# %% [markdown]
# ### Exercise 6 - Create a markdown cell with a table of Data Science tools

# %% [markdown]
# |Data Science Tools | 
# | ------ | 
# | PostgreSQL |
# | MySQL |
# | NoSQL |  

# %% [markdown]
# ### Below are a few examples of evaluating arithmetic expressions in Python

# %%
# This a simple arithmetic expression to mutiply then add integers
(3*4)+5

# %%
# This will convert 200 minutes to hours by diving by 60
minutes=200
hours  = int(minutes/60)
print('hours=',hours)

# %% [markdown]
# ## Author
# Aishah Albarakati


